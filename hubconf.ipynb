{
 "cells": [
  {
   "cell_type": "code",
   "execution_count": 10,
   "metadata": {},
   "outputs": [],
   "source": [
    "import torch\n",
    "from utils.utils import Params\n",
    "from backbone import HybridNetsBackbone"
   ]
  },
  {
   "cell_type": "code",
   "execution_count": 12,
   "metadata": {},
   "outputs": [],
   "source": [
    "def hybridnets(pretrained=True, backbone=None, compound_coef=3, device='cpu'):\n",
    "    \"\"\"Creates a HybridNets model\n",
    "\n",
    "    Arguments:\n",
    "        pretrained (bool): load pretrained weights into the model\n",
    "        backbone (str): use timm to create another backbone replacing efficientnet\n",
    "        compound_coef (int): compound coefficient of efficientnet backbone\n",
    "        device (str): 'cuda:0' or 'cpu'\n",
    "\n",
    "    Returns:\n",
    "        HybridNets model\n",
    "    \"\"\"\n",
    "    params = Params(f'projects/bdd100k.yml')\n",
    "    # params = Params(os.path.join(Path(__file__).resolve().parent, \"projects/bdd100k.yml\"))\n",
    "    model = HybridNetsBackbone(num_classes=len(params.obj_list), compound_coef=compound_coef,\n",
    "                               ratios=eval(params.anchors_ratios), scales=eval(params.anchors_scales),\n",
    "                               seg_classes=len(params.seg_list), backbone_name=backbone)\n",
    "    if pretrained and not backbone and compound_coef == 3:\n",
    "\n",
    "        # weight_url = 'https://github.com/datvuthanh/HybridNets/releases/download/v1.0/hybridnets.pth'\n",
    "        # model.load_state_dict(torch.hub.load_state_dict_from_url(weight_url, map_location=device))\n",
    "        \n",
    "        # for downloaded model pth\n",
    "        weight_path = 'weights/hybridnets.pth'\n",
    "        try:\n",
    "            model.load_state_dict(torch.load(weight_path, map_location='cpu' if device=='cpu' else 'cuda'))\n",
    "        except:\n",
    "            model.load_state_dict(torch.load(weight_path, map_location='cpu' if device=='cpu' else 'cuda')['model'])\n",
    "\n",
    "    model = model.to(device)\n",
    "    return model\n"
   ]
  },
  {
   "cell_type": "code",
   "execution_count": 13,
   "metadata": {},
   "outputs": [
    {
     "name": "stdout",
     "output_type": "stream",
     "text": [
      "<class 'torch.Tensor'>\n"
     ]
    }
   ],
   "source": [
    "    model = hybridnets(device='cpu')\n",
    "    img = torch.rand(1, 3, 384, 640)\n",
    "    print(type(img))"
   ]
  }
 ],
 "metadata": {
  "interpreter": {
   "hash": "865d8b2eb28e274047ba64063dfb6a2aabf0dfec4905d304d7a76618dae6fdd4"
  },
  "kernelspec": {
   "display_name": "Python 3.8.9 64-bit",
   "language": "python",
   "name": "python3"
  },
  "language_info": {
   "codemirror_mode": {
    "name": "ipython",
    "version": 3
   },
   "file_extension": ".py",
   "mimetype": "text/x-python",
   "name": "python",
   "nbconvert_exporter": "python",
   "pygments_lexer": "ipython3",
   "version": "3.8.9"
  },
  "orig_nbformat": 4
 },
 "nbformat": 4,
 "nbformat_minor": 2
}
